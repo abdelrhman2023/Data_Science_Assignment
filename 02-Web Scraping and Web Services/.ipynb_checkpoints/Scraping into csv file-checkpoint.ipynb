{
 "cells": [
  {
   "cell_type": "markdown",
   "metadata": {},
   "source": [
    "# Scraping into csv file"
   ]
  },
  {
   "cell_type": "code",
   "execution_count": 1,
   "metadata": {},
   "outputs": [],
   "source": [
    "import csv  \n",
    "import requests\n",
    "from bs4 import BeautifulSoup"
   ]
  },
  {
   "cell_type": "code",
   "execution_count": 2,
   "metadata": {},
   "outputs": [],
   "source": [
    "L = \"https://books.toscrape.com/index.html\""
   ]
  },
  {
   "cell_type": "code",
   "execution_count": 3,
   "metadata": {},
   "outputs": [],
   "source": [
    "def Link_Of_Page(LINK):\n",
    "    response = requests.get(LINK)\n",
    "    soup = BeautifulSoup(response.text,\"html.parser\")\n",
    "    catalogue = soup.find_all('a')\n",
    "    link=[]\n",
    "    for c in catalogue:\n",
    "        link.append(c.attrs['href'])\n",
    "    link = link[3:53]\n",
    "    return link"
   ]
  },
  {
   "cell_type": "code",
   "execution_count": 4,
   "metadata": {
    "scrolled": true
   },
   "outputs": [],
   "source": [
    "link=Link_Of_Page(L)\n",
    "rates = {'One': 1, 'Two': 2, 'Three': 3, 'Four': 4, 'Five': 5}"
   ]
  },
  {
   "cell_type": "code",
   "execution_count": 5,
   "metadata": {},
   "outputs": [],
   "source": [
    "def Details_Category(i):\n",
    "    url=f\"https://books.toscrape.com/{link[i]}\"\n",
    "    response=requests.get(url)\n",
    "    soup=BeautifulSoup(response.text,\"html.parser\")\n",
    "    art =soup.find_all('article',attrs={\"class\":\"product_pod\"})\n",
    "    Name=soup.find('ul',attrs={'class':'nav nav-list'}).find_all('li')[i+1].find('a').get_text().strip()\n",
    "    print(f'Name Of Category: {Name}')\n",
    "    print(f'Link Of Category: {url}')\n",
    "    print('*-*-*-*-*-*-*-*-*-*-*-*-*-*-*-*-*-*-*-*-*-*-*-*-*-*-*-*-*-*-*-*-*-*-*')\n",
    "    return art,soup,Name,url"
   ]
  },
  {
   "cell_type": "code",
   "execution_count": 6,
   "metadata": {},
   "outputs": [],
   "source": [
    "def Details_Book(link_):\n",
    "    response=requests.get(link_)\n",
    "    SOUP=BeautifulSoup(response.text,\"html.parser\")\n",
    "    quantity=SOUP.find('table',attrs={'class':'table table-striped'}).find_all('tr')[5].find('td').get_text()\n",
    "    quantity=quantity.split()\n",
    "    quantity=quantity[2][1:]\n",
    "    return quantity"
   ]
  },
  {
   "cell_type": "code",
   "execution_count": 7,
   "metadata": {},
   "outputs": [],
   "source": [
    "def Details_Page(j):\n",
    "    \n",
    "    name =j.find('h3').find('a')['title']\n",
    "    price=float(j.find('p',attrs={\"class\":\"price_color\"}).get_text().split('£')[1])\n",
    "    rate =j.find('p').get('class')[1]\n",
    "    l=j.find('h3').find('a').get('href')\n",
    "    l=l.split('../')\n",
    "    l=''.join(l)\n",
    "    link_ =f\"https://books.toscrape.com/catalogue/{l}\"\n",
    "    quantity=Details_Book(link_)\n",
    "    print(f'Book name: {name}\\nPrice: {price}\\nRate: {rates[rate]}\\nBook link: {link_}\\nquantity: {quantity}\\n')\n",
    "    print('-----------------------------------------------')\n",
    "    return name,price,rate,link_,quantity"
   ]
  },
  {
   "cell_type": "code",
   "execution_count": 8,
   "metadata": {},
   "outputs": [],
   "source": [
    "def Details_Inner_Page(i,soup):\n",
    "    next_page= soup.find('li',attrs={'class':'next'}).find('a').attrs['href']\n",
    "    link[i]=link[i].split('/')\n",
    "    link[i][-1]=next_page\n",
    "    link[i]='/'.join(link[i]) "
   ]
  },
  {
   "cell_type": "code",
   "execution_count": 9,
   "metadata": {},
   "outputs": [],
   "source": [
    "def Get_Books(L):\n",
    "    with open('Book.csv', 'w', encoding=\"utf-8\") as f:\n",
    "        writer = csv.DictWriter(f, fieldnames=['Name', 'Price', 'Rate', 'Quantity', 'Link_B', 'Category', 'Link_C'])\n",
    "        writer.writeheader()\n",
    "        for i in range(len(link)):\n",
    "            art,soup,Name,url = Details_Category(i)\n",
    "            writer.writerow({'Category': Name, 'Link_C': url})\n",
    "            for j in art:\n",
    "                name,price,rate,link_,quantity = Details_Page(j)\n",
    "                writer.writerow({'Name': name, 'Price': price, 'Rate': rate, 'Quantity': quantity, 'Link_B': link_})\n",
    "            try:\n",
    "                while(True):\n",
    "                    pages=soup.find('li',attrs={'class':'current'}).get_text().strip()\n",
    "                    if(int(pages[5:7])<=int(pages[-2:])):\n",
    "                        Details_Inner_Page(i,soup)\n",
    "                        art,soup,Name,url = Details_Category(i)\n",
    "                        for j in art:\n",
    "                            name,price,rate,link_,quantity = Details_Page(j)\n",
    "                            writer.writerow({'Name': name, 'Price': price, 'Rate': rate, 'Quantity': quantity, 'Link_B': link_})\n",
    "                    else:\n",
    "                        break \n",
    "            except:\n",
    "                continue"
   ]
  },
  {
   "cell_type": "code",
   "execution_count": null,
   "metadata": {
    "scrolled": true
   },
   "outputs": [
    {
     "name": "stdout",
     "output_type": "stream",
     "text": [
      "Name Of Category: Travel\n",
      "Link Of Category: https://books.toscrape.com/catalogue/category/books/travel_2/index.html\n",
      "*-*-*-*-*-*-*-*-*-*-*-*-*-*-*-*-*-*-*-*-*-*-*-*-*-*-*-*-*-*-*-*-*-*-*\n",
      "Book name: It's Only the Himalayas\n",
      "Price: 45.17\n",
      "Rate: 2\n",
      "Book link: https://books.toscrape.com/catalogue/its-only-the-himalayas_981/index.html\n",
      "quantity: 19\n",
      "\n",
      "-----------------------------------------------\n",
      "Book name: Full Moon over Noahâs Ark: An Odyssey to Mount Ararat and Beyond\n",
      "Price: 49.43\n",
      "Rate: 4\n",
      "Book link: https://books.toscrape.com/catalogue/full-moon-over-noahs-ark-an-odyssey-to-mount-ararat-and-beyond_811/index.html\n",
      "quantity: 15\n",
      "\n",
      "-----------------------------------------------\n",
      "Book name: See America: A Celebration of Our National Parks & Treasured Sites\n",
      "Price: 48.87\n",
      "Rate: 3\n",
      "Book link: https://books.toscrape.com/catalogue/see-america-a-celebration-of-our-national-parks-treasured-sites_732/index.html\n",
      "quantity: 14\n",
      "\n",
      "-----------------------------------------------\n",
      "Book name: Vagabonding: An Uncommon Guide to the Art of Long-Term World Travel\n",
      "Price: 36.94\n",
      "Rate: 2\n",
      "Book link: https://books.toscrape.com/catalogue/vagabonding-an-uncommon-guide-to-the-art-of-long-term-world-travel_552/index.html\n",
      "quantity: 8\n",
      "\n",
      "-----------------------------------------------\n",
      "Book name: Under the Tuscan Sun\n",
      "Price: 37.33\n",
      "Rate: 3\n",
      "Book link: https://books.toscrape.com/catalogue/under-the-tuscan-sun_504/index.html\n",
      "quantity: 7\n",
      "\n",
      "-----------------------------------------------\n",
      "Book name: A Summer In Europe\n",
      "Price: 44.34\n",
      "Rate: 2\n",
      "Book link: https://books.toscrape.com/catalogue/a-summer-in-europe_458/index.html\n",
      "quantity: 7\n",
      "\n",
      "-----------------------------------------------\n",
      "Book name: The Great Railway Bazaar\n",
      "Price: 30.54\n",
      "Rate: 1\n",
      "Book link: https://books.toscrape.com/catalogue/the-great-railway-bazaar_446/index.html\n",
      "quantity: 6\n",
      "\n",
      "-----------------------------------------------\n",
      "Book name: A Year in Provence (Provence #1)\n",
      "Price: 56.88\n",
      "Rate: 4\n",
      "Book link: https://books.toscrape.com/catalogue/a-year-in-provence-provence-1_421/index.html\n",
      "quantity: 6\n",
      "\n",
      "-----------------------------------------------\n",
      "Book name: The Road to Little Dribbling: Adventures of an American in Britain (Notes From a Small Island #2)\n",
      "Price: 23.21\n",
      "Rate: 1\n",
      "Book link: https://books.toscrape.com/catalogue/the-road-to-little-dribbling-adventures-of-an-american-in-britain-notes-from-a-small-island-2_277/index.html\n",
      "quantity: 3\n",
      "\n",
      "-----------------------------------------------\n",
      "Book name: Neither Here nor There: Travels in Europe\n",
      "Price: 38.95\n",
      "Rate: 3\n",
      "Book link: https://books.toscrape.com/catalogue/neither-here-nor-there-travels-in-europe_198/index.html\n",
      "quantity: 3\n",
      "\n",
      "-----------------------------------------------\n",
      "Book name: 1,000 Places to See Before You Die\n",
      "Price: 26.08\n",
      "Rate: 5\n",
      "Book link: https://books.toscrape.com/catalogue/1000-places-to-see-before-you-die_1/index.html\n",
      "quantity: 1\n",
      "\n",
      "-----------------------------------------------\n"
     ]
    }
   ],
   "source": [
    "Get_Books(L)"
   ]
  }
 ],
 "metadata": {
  "kernelspec": {
   "display_name": "Python 3",
   "language": "python",
   "name": "python3"
  },
  "language_info": {
   "codemirror_mode": {
    "name": "ipython",
    "version": 3
   },
   "file_extension": ".py",
   "mimetype": "text/x-python",
   "name": "python",
   "nbconvert_exporter": "python",
   "pygments_lexer": "ipython3",
   "version": "3.7.6"
  }
 },
 "nbformat": 4,
 "nbformat_minor": 4
}
